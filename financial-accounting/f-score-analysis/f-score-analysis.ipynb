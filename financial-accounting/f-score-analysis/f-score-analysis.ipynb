{
 "cells": [
  {
   "cell_type": "markdown",
   "metadata": {},
   "source": [
    "# Financial Accounting - HW5\n",
    "\n",
    "<p style=\"text-align: right;\"><i>Anirudh Narayanan</i></p>"
   ]
  },
  {
   "cell_type": "code",
   "execution_count": 1,
   "metadata": {
    "collapsed": false,
    "raw_mimetype": "text/markdown",
    "slideshow": {
     "slide_type": "-"
    }
   },
   "outputs": [],
   "source": [
    "from pandas import Series, DataFrame\n",
    "import pandas as pd\n",
    "import numpy as np\n",
    "import pylab as pl\n",
    "\n",
    "#supressing chained assignment warnings\n",
    "pd.options.mode.chained_assignment = None"
   ]
  },
  {
   "cell_type": "markdown",
   "metadata": {},
   "source": [
    "# Q1 - Comparison between EPS and ROA YoY Changes"
   ]
  },
  {
   "cell_type": "code",
   "execution_count": 2,
   "metadata": {
    "collapsed": false
   },
   "outputs": [
    {
     "data": {
      "text/html": [
       "<div>\n",
       "<table border=\"1\" class=\"dataframe\">\n",
       "  <thead>\n",
       "    <tr style=\"text-align: right;\">\n",
       "      <th></th>\n",
       "      <th>gvkey</th>\n",
       "      <th>datadate</th>\n",
       "      <th>fyearq</th>\n",
       "      <th>fqtr</th>\n",
       "      <th>conm</th>\n",
       "      <th>rdq</th>\n",
       "      <th>actq</th>\n",
       "      <th>atq</th>\n",
       "      <th>ceqq</th>\n",
       "      <th>cshoq</th>\n",
       "      <th>dlttq</th>\n",
       "      <th>lctq</th>\n",
       "      <th>niq</th>\n",
       "      <th>revtq</th>\n",
       "      <th>cogsy</th>\n",
       "      <th>oancfy</th>\n",
       "      <th>prccq</th>\n",
       "      <th>gind</th>\n",
       "      <th>sic</th>\n",
       "    </tr>\n",
       "  </thead>\n",
       "  <tbody>\n",
       "    <tr>\n",
       "      <th>0</th>\n",
       "      <td>1013</td>\n",
       "      <td>31jan1995</td>\n",
       "      <td>1995</td>\n",
       "      <td>1</td>\n",
       "      <td>ADC TELECOMMUNICATIONS INC</td>\n",
       "      <td>23feb1995</td>\n",
       "      <td>207.183</td>\n",
       "      <td>341.775</td>\n",
       "      <td>275.321</td>\n",
       "      <td>27.989</td>\n",
       "      <td>0.410</td>\n",
       "      <td>63.975</td>\n",
       "      <td>10.466</td>\n",
       "      <td>121.774</td>\n",
       "      <td>57.206</td>\n",
       "      <td>6.023</td>\n",
       "      <td>49.000</td>\n",
       "      <td>452010</td>\n",
       "      <td>3661</td>\n",
       "    </tr>\n",
       "    <tr>\n",
       "      <th>1</th>\n",
       "      <td>1013</td>\n",
       "      <td>31jan1996</td>\n",
       "      <td>1996</td>\n",
       "      <td>1</td>\n",
       "      <td>ADC TELECOMMUNICATIONS INC</td>\n",
       "      <td>26feb1996</td>\n",
       "      <td>452.610</td>\n",
       "      <td>617.158</td>\n",
       "      <td>527.783</td>\n",
       "      <td>62.778</td>\n",
       "      <td>0.000</td>\n",
       "      <td>88.119</td>\n",
       "      <td>16.313</td>\n",
       "      <td>162.591</td>\n",
       "      <td>78.256</td>\n",
       "      <td>4.874</td>\n",
       "      <td>38.625</td>\n",
       "      <td>452010</td>\n",
       "      <td>3661</td>\n",
       "    </tr>\n",
       "    <tr>\n",
       "      <th>2</th>\n",
       "      <td>1013</td>\n",
       "      <td>30apr1996</td>\n",
       "      <td>1996</td>\n",
       "      <td>2</td>\n",
       "      <td>ADC TELECOMMUNICATIONS INC</td>\n",
       "      <td>28may1996</td>\n",
       "      <td>457.474</td>\n",
       "      <td>653.732</td>\n",
       "      <td>554.654</td>\n",
       "      <td>64.084</td>\n",
       "      <td>0.444</td>\n",
       "      <td>97.524</td>\n",
       "      <td>19.899</td>\n",
       "      <td>193.053</td>\n",
       "      <td>174.763</td>\n",
       "      <td>3.396</td>\n",
       "      <td>42.000</td>\n",
       "      <td>452010</td>\n",
       "      <td>3661</td>\n",
       "    </tr>\n",
       "    <tr>\n",
       "      <th>3</th>\n",
       "      <td>1013</td>\n",
       "      <td>31jul1996</td>\n",
       "      <td>1996</td>\n",
       "      <td>3</td>\n",
       "      <td>ADC TELECOMMUNICATIONS INC</td>\n",
       "      <td>27aug1996</td>\n",
       "      <td>448.275</td>\n",
       "      <td>704.421</td>\n",
       "      <td>581.979</td>\n",
       "      <td>64.891</td>\n",
       "      <td>8.777</td>\n",
       "      <td>112.475</td>\n",
       "      <td>23.172</td>\n",
       "      <td>217.313</td>\n",
       "      <td>284.018</td>\n",
       "      <td>26.729</td>\n",
       "      <td>42.250</td>\n",
       "      <td>452010</td>\n",
       "      <td>3661</td>\n",
       "    </tr>\n",
       "    <tr>\n",
       "      <th>4</th>\n",
       "      <td>1013</td>\n",
       "      <td>31oct1996</td>\n",
       "      <td>1996</td>\n",
       "      <td>4</td>\n",
       "      <td>ADC TELECOMMUNICATIONS INC</td>\n",
       "      <td>11dec1996</td>\n",
       "      <td>499.501</td>\n",
       "      <td>768.765</td>\n",
       "      <td>617.470</td>\n",
       "      <td>65.177</td>\n",
       "      <td>6.913</td>\n",
       "      <td>142.079</td>\n",
       "      <td>28.079</td>\n",
       "      <td>255.052</td>\n",
       "      <td>410.288</td>\n",
       "      <td>63.457</td>\n",
       "      <td>68.375</td>\n",
       "      <td>452010</td>\n",
       "      <td>3661</td>\n",
       "    </tr>\n",
       "  </tbody>\n",
       "</table>\n",
       "</div>"
      ],
      "text/plain": [
       "   gvkey   datadate  fyearq  fqtr                        conm        rdq  \\\n",
       "0   1013  31jan1995    1995     1  ADC TELECOMMUNICATIONS INC  23feb1995   \n",
       "1   1013  31jan1996    1996     1  ADC TELECOMMUNICATIONS INC  26feb1996   \n",
       "2   1013  30apr1996    1996     2  ADC TELECOMMUNICATIONS INC  28may1996   \n",
       "3   1013  31jul1996    1996     3  ADC TELECOMMUNICATIONS INC  27aug1996   \n",
       "4   1013  31oct1996    1996     4  ADC TELECOMMUNICATIONS INC  11dec1996   \n",
       "\n",
       "      actq      atq     ceqq   cshoq  dlttq     lctq     niq    revtq  \\\n",
       "0  207.183  341.775  275.321  27.989  0.410   63.975  10.466  121.774   \n",
       "1  452.610  617.158  527.783  62.778  0.000   88.119  16.313  162.591   \n",
       "2  457.474  653.732  554.654  64.084  0.444   97.524  19.899  193.053   \n",
       "3  448.275  704.421  581.979  64.891  8.777  112.475  23.172  217.313   \n",
       "4  499.501  768.765  617.470  65.177  6.913  142.079  28.079  255.052   \n",
       "\n",
       "     cogsy  oancfy   prccq    gind   sic  \n",
       "0   57.206   6.023  49.000  452010  3661  \n",
       "1   78.256   4.874  38.625  452010  3661  \n",
       "2  174.763   3.396  42.000  452010  3661  \n",
       "3  284.018  26.729  42.250  452010  3661  \n",
       "4  410.288  63.457  68.375  452010  3661  "
      ]
     },
     "execution_count": 2,
     "metadata": {},
     "output_type": "execute_result"
    }
   ],
   "source": [
    "#Reading file and removing duplicate rows\n",
    "hw5 = pd.read_csv('hw5_data.csv')\n",
    "hw5_dedup = hw5[hw5.duplicated() == False]\n",
    "\n",
    "hw5_dedup.head()"
   ]
  },
  {
   "cell_type": "markdown",
   "metadata": {},
   "source": [
    "### Part 1 - Earnings per Share plot"
   ]
  },
  {
   "cell_type": "code",
   "execution_count": 3,
   "metadata": {
    "collapsed": false
   },
   "outputs": [
    {
     "name": "stdout",
     "output_type": "stream",
     "text": [
      "Mean EPS: 0.489338\n",
      "Mean EPS Change: 0.007470\n"
     ]
    }
   ],
   "source": [
    "#creating a column for earnings per share\n",
    "hw5_dedup['EPS'] = hw5_dedup['niq']/hw5_dedup['cshoq']\n",
    "print 'Mean EPS: {:.6f}'.format(hw5_dedup['EPS'].mean())\n",
    "\n",
    "#sorting and shifting data for getting the eps_change variable \n",
    "hw5_dedup = hw5_dedup.sort_values(by  = ['conm','fqtr','fyearq'])\n",
    "\n",
    "#only subtract rows where the year is (lag year + 1) and quarters and company name lags matches\n",
    "hw5_dedup['eps_change'] = (hw5_dedup['EPS'] - hw5_dedup['EPS'].shift(1)) \\\n",
    "                            [(hw5_dedup['fyearq'] == hw5_dedup['fyearq'].shift(1) + 1) &\\\n",
    "                             (hw5_dedup['fqtr'] == hw5_dedup['fqtr'].shift(1) ) &\\\n",
    "                             (hw5_dedup['conm'] ==  hw5_dedup['conm'].shift(1) ) ]\n",
    "\n",
    "#printing mean for cross-checking\n",
    "print 'Mean EPS Change: {:.6f}'.format(hw5_dedup['eps_change'].round(2).mean())"
   ]
  },
  {
   "cell_type": "code",
   "execution_count": 4,
   "metadata": {
    "collapsed": false
   },
   "outputs": [
    {
     "data": {
      "image/png": "[encoded data removed]",
      "text/plain": [
       "<matplotlib.figure.Figure at 0x3fbb828>"
      ]
     },
     "metadata": {},
     "output_type": "display_data"
    }
   ],
   "source": [
    "%matplotlib inline\n",
    "data = hw5_dedup['eps_change'].round(2)[hw5_dedup['eps_change'].round(2).abs()<=0.2 ].dropna()\n",
    "pl.hist(data,bins = 20, color = 'maroon')\n",
    "pl.xlabel('EPS Change')\n",
    "pl.ylabel('Frequency')\n",
    "pl.show()"
   ]
  },
  {
   "cell_type": "markdown",
   "metadata": {},
   "source": [
    "#### Observations\n",
    "\n",
    "For a company in successive quarters, the number of shares (the denominator in EPS) remains more or less the same. But the net income (numerator in EPS) is either positive or negative. Hence the change in this ratio over successive periods is quite varied."
   ]
  },
  {
   "cell_type": "markdown",
   "metadata": {},
   "source": [
    "  "
   ]
  },
  {
   "cell_type": "markdown",
   "metadata": {},
   "source": [
    "### Part 2 - Return on Assets plot"
   ]
  },
  {
   "cell_type": "code",
   "execution_count": 5,
   "metadata": {
    "collapsed": false
   },
   "outputs": [
    {
     "name": "stdout",
     "output_type": "stream",
     "text": [
      "Mean ROA: 0.014502\n",
      "Mean ROA Change: -0.000462\n"
     ]
    }
   ],
   "source": [
    "#Column for return on assets\n",
    "hw5_dedup['ROA'] = hw5_dedup['niq']/hw5_dedup['atq']\n",
    "print 'Mean ROA: {:.6f}'.format(hw5_dedup['ROA'].mean())\n",
    "\n",
    "\n",
    "#Similar logic as above for calculating change\n",
    "hw5_dedup['roa_change'] = (hw5_dedup['ROA'] - hw5_dedup['ROA'].shift(1)) \\\n",
    "                            [(hw5_dedup['fyearq'] == hw5_dedup['fyearq'].shift(1) + 1) &\\\n",
    "                             (hw5_dedup['fqtr'] == hw5_dedup['fqtr'].shift(1) ) &\\\n",
    "                             (hw5_dedup['conm'] ==  hw5_dedup['conm'].shift(1)) ]\n",
    "\n",
    "# printing mean for cross-checking\n",
    "\n",
    "print 'Mean ROA Change: {:.6f}'.format(hw5_dedup['roa_change'].round(2).mean())"
   ]
  },
  {
   "cell_type": "code",
   "execution_count": 6,
   "metadata": {
    "collapsed": false
   },
   "outputs": [
    {
     "data": {
      "image/png": "[encoded data removed]",
      "text/plain": [
       "<matplotlib.figure.Figure at 0x8beac88>"
      ]
     },
     "metadata": {},
     "output_type": "display_data"
    }
   ],
   "source": [
    "%matplotlib inline\n",
    "data = hw5_dedup['roa_change'].round(2)[hw5_dedup['roa_change'].round(2).abs()<=0.2 ].dropna()\n",
    "pl.hist(data, bins = 20, color = 'darkblue')\n",
    "pl.xlabel('ROA Change')\n",
    "pl.ylabel('Frequency')\n",
    "pl.show()"
   ]
  },
  {
   "cell_type": "markdown",
   "metadata": {},
   "source": [
    "#### Observation\n",
    "\n",
    "In contrast to the EPS change plot, we can see that the ROA change plot does not show as much spread. In fact, majority of the values are 0.\n",
    "ROA change represents if a company gets better or worse in terms of asset utilization. A majority of 0 values means as that as assets increase (denominator in ROA) so does net income (numerator in ROA), hence leading to a constant ROA and 0 ROA change."
   ]
  },
  {
   "cell_type": "markdown",
   "metadata": {},
   "source": [
    " #### Comparison in Graphs"
   ]
  },
  {
   "cell_type": "markdown",
   "metadata": {},
   "source": [
    "We can see from the graphs that majority of ROA Changes are 0 whereas EPS changes are more spread out.\n",
    "\n",
    "Economic explanation behind this would be that companies' utilization of assets is more or less constant, i.e majority of companies do not have disproportionate returns on new assets. Alternatively, new assets cause net income increases in such a manner that the ratio ends up the same over the periods.\n",
    "\n",
    "Hence, in terms of evaluating a company's value, EPS would be a better metric than just looking at ROA."
   ]
  },
  {
   "cell_type": "markdown",
   "metadata": {},
   "source": [
    " "
   ]
  },
  {
   "cell_type": "markdown",
   "metadata": {},
   "source": [
    "# Q2 - Piotrosky F-Score"
   ]
  },
  {
   "cell_type": "markdown",
   "metadata": {},
   "source": [
    "### Part 1 -  Calculating the f-score"
   ]
  },
  {
   "cell_type": "code",
   "execution_count": 7,
   "metadata": {
    "collapsed": false
   },
   "outputs": [
    {
     "name": "stdout",
     "output_type": "stream",
     "text": [
      "d_netincome: 0.874272\n",
      "d_operating: 0.874620\n",
      "d_roa: 0.521522\n",
      "d_quality: 0.805308\n",
      "d_longterm: 0.526801\n",
      "d_currentratio: 0.510183\n",
      "d_shareout: 0.407228\n",
      "d_gm: 0.516305\n",
      "d_at: 0.492691\n"
     ]
    }
   ],
   "source": [
    "#Calculating the components for F-Score\n",
    "\n",
    "\n",
    "#NET INCOME\n",
    "hw5_dedup['d_netincome'] = np.where(hw5_dedup['niq'] > 0 , 1 , 0)\n",
    "print 'd_netincome: {:.6f}'.format(hw5_dedup['d_netincome'].mean())\n",
    "\n",
    "\n",
    "\n",
    "#OPERATING CASH FLOW\n",
    "hw5_dedup['d_operating'] = np.where(hw5_dedup['oancfy'] > 0 , 1, 0)\n",
    "print 'd_operating: {:.6f}'.format(hw5_dedup['d_operating'].mean())\n",
    "\n",
    "\n",
    "\n",
    "#RETURN ON ASSETS\n",
    "hw5_dedup['d_roa'] = np.where(hw5_dedup['roa_change'].isnull(), np.nan, np.where(hw5_dedup['roa_change'] > 0, 1, 0 ))\n",
    "print 'd_roa: {:.6f}'.format(hw5_dedup['d_roa'].mean())\n",
    "\n",
    "\n",
    "\n",
    "#QUALITY OF EARNINGS\n",
    "hw5_dedup['d_quality'] = np.where( hw5_dedup['oancfy'] > hw5_dedup['niq'], 1, 0)\n",
    "print 'd_quality: {:.6f}'.format(hw5_dedup['d_quality'].mean())\n",
    "\n",
    "\n",
    "\n",
    "#LONG-TERM DEBTS VS ASSETS\n",
    "hw5_dedup['dta_ratio_change'] = (hw5_dedup['dlttq']/hw5_dedup['atq'] - hw5_dedup['dlttq'].shift(1)/hw5_dedup['atq'].shift(1))\\\n",
    "                            [(hw5_dedup['fyearq'] == hw5_dedup['fyearq'].shift(1) + 1) &\\\n",
    "                             (hw5_dedup['fqtr'] == hw5_dedup['fqtr'].shift(1) ) &\\\n",
    "                             (hw5_dedup['conm'] ==  hw5_dedup['conm'].shift(1) )]\n",
    "\n",
    "hw5_dedup['d_longterm'] = np.where(hw5_dedup['dta_ratio_change'].isnull(), np.nan, \\\n",
    "                                   np.where(hw5_dedup['dta_ratio_change'] < 0, 1, 0 ))\n",
    "print 'd_longterm: {:.6f}'.format(hw5_dedup['d_longterm'].mean())\n",
    "\n",
    "\n",
    "\n",
    "#CURRENT RATIO\n",
    "hw5_dedup['cr_change'] = (hw5_dedup['actq']/hw5_dedup['lctq'] - hw5_dedup['actq'].shift(1)/hw5_dedup['lctq'].shift(1))\\\n",
    "                            [(hw5_dedup['fyearq'] == hw5_dedup['fyearq'].shift(1) + 1) &\\\n",
    "                             (hw5_dedup['fqtr'] == hw5_dedup['fqtr'].shift(1) ) &\\\n",
    "                             (hw5_dedup['conm'] ==  hw5_dedup['conm'].shift(1) )]\n",
    "    \n",
    "hw5_dedup['d_currentratio'] = np.where(hw5_dedup['cr_change'].isnull(), np.nan, \\\n",
    "                                   np.where(hw5_dedup['cr_change'] > 0, 1, 0 ))\n",
    "print 'd_currentratio: {:.6f}'.format(hw5_dedup['d_currentratio'].mean())\n",
    "\n",
    "\n",
    "#SHARES OUTSTANDING\n",
    "hw5_dedup['shareout_change'] = (hw5_dedup['cshoq'] - hw5_dedup['cshoq'].shift(1))\\\n",
    "                                [(hw5_dedup['fyearq'] == hw5_dedup['fyearq'].shift(1) + 1) &\\\n",
    "                             (hw5_dedup['fqtr'] == hw5_dedup['fqtr'].shift(1) ) &\\\n",
    "                             (hw5_dedup['conm'] ==  hw5_dedup['conm'].shift(1) )]\n",
    "\n",
    "hw5_dedup['d_shareout'] = np.where(hw5_dedup['shareout_change'].isnull(), np.nan, \\\n",
    "                                   np.where(hw5_dedup['shareout_change'] <= 0, 1, 0 ))\n",
    "print 'd_shareout: {:.6f}'.format(hw5_dedup['d_shareout'].mean())\n",
    "\n",
    "\n",
    "#GROSS MARGIN\n",
    "hw5_dedup['gm'] = (hw5_dedup['revtq'] - hw5_dedup['cogsy'])/hw5_dedup['revtq']\n",
    "\n",
    "hw5_dedup['gm_change'] = (hw5_dedup['gm'] - hw5_dedup['gm'].shift(1))\\\n",
    "                                [(hw5_dedup['fyearq'] == hw5_dedup['fyearq'].shift(1) + 1) &\\\n",
    "                             (hw5_dedup['fqtr'] == hw5_dedup['fqtr'].shift(1) ) &\\\n",
    "                             (hw5_dedup['conm'] ==  hw5_dedup['conm'].shift(1) )]\n",
    "    \n",
    "hw5_dedup['d_gm'] = np.where(hw5_dedup['gm_change'].isnull(), np.nan, \\\n",
    "                                   np.where(hw5_dedup['gm_change'] > 0, 1, 0 ))\n",
    "print 'd_gm: {:.6f}'.format(hw5_dedup['d_gm'].mean())\n",
    "\n",
    "\n",
    "#ASSET TURNOVER\n",
    "hw5_dedup['at'] = hw5_dedup['revtq']/hw5_dedup['atq']\n",
    "hw5_dedup['at_change'] = (hw5_dedup['at'] - hw5_dedup['at'].shift(1))\\\n",
    "                            [(hw5_dedup['fyearq'] == hw5_dedup['fyearq'].shift(1) + 1) &\\\n",
    "                             (hw5_dedup['fqtr'] == hw5_dedup['fqtr'].shift(1) ) &\\\n",
    "                             (hw5_dedup['conm'] ==  hw5_dedup['conm'].shift(1) )]\n",
    "    \n",
    "hw5_dedup['d_at'] = np.where(hw5_dedup['at_change'].isnull(), np.nan, \\\n",
    "                                   np.where(hw5_dedup['at_change'] > 0, 1, 0 ))\n",
    "print 'd_at: {:.6f}'.format(hw5_dedup['d_at'].mean())"
   ]
  },
  {
   "cell_type": "code",
   "execution_count": 8,
   "metadata": {
    "collapsed": false
   },
   "outputs": [
    {
     "name": "stdout",
     "output_type": "stream",
     "text": [
      "Mean Pitrioski's F-Score: 5.5423\n"
     ]
    }
   ],
   "source": [
    "#Calculating the final F-Score\n",
    "hw5_dedup['f_score'] = hw5_dedup['d_netincome'] +\\\n",
    "                        hw5_dedup['d_operating'] +\\\n",
    "                        hw5_dedup['d_roa'] +\\\n",
    "                        hw5_dedup['d_quality'] +\\\n",
    "                        hw5_dedup['d_longterm'] +\\\n",
    "                        hw5_dedup['d_currentratio'] +\\\n",
    "                        hw5_dedup['d_shareout'] +\\\n",
    "                        hw5_dedup['d_gm'] +\\\n",
    "                        hw5_dedup['d_at']\n",
    "\n",
    "\n",
    "print 'Mean Pitrioski\\'s F-Score: {:.4f}'.format(hw5_dedup['f_score'].mean())"
   ]
  },
  {
   "cell_type": "code",
   "execution_count": 9,
   "metadata": {
    "collapsed": false
   },
   "outputs": [
    {
     "data": {
      "image/png": "[encoded data removed]",
      "text/plain": [
       "<matplotlib.figure.Figure at 0xbef1400>"
      ]
     },
     "metadata": {},
     "output_type": "display_data"
    }
   ],
   "source": [
    "%matplotlib inline\n",
    "\n",
    "#Plotting F-score distribution\n",
    "data = hw5_dedup['f_score'].round(2).dropna()\n",
    "pl.hist(data,color = 'teal')\n",
    "pl.xlabel('F Score')\n",
    "pl.ylabel('Frequency')\n",
    "pl.show()"
   ]
  },
  {
   "cell_type": "code",
   "execution_count": 10,
   "metadata": {
    "collapsed": false
   },
   "outputs": [
    {
     "name": "stdout",
     "output_type": "stream",
     "text": [
      "Fraction of companies with F-score >= 7 : 29.88%\n"
     ]
    }
   ],
   "source": [
    "print 'Fraction of companies with F-score >= 7 : {:.2f}%'.format(float(100*len(hw5_dedup[hw5_dedup['f_score'] >= 7]))\\\n",
    "                                                                /len(hw5_dedup[hw5_dedup['f_score'].isnull()==False]) )"
   ]
  },
  {
   "cell_type": "markdown",
   "metadata": {},
   "source": [
    " \n"
   ]
  },
  {
   "cell_type": "markdown",
   "metadata": {},
   "source": [
    "### Part 2 - Book to Market Ratio"
   ]
  },
  {
   "cell_type": "code",
   "execution_count": 11,
   "metadata": {
    "collapsed": false
   },
   "outputs": [
    {
     "name": "stdout",
     "output_type": "stream",
     "text": [
      "Mean BTM Ratio: 0.445\n"
     ]
    }
   ],
   "source": [
    "#Market ratio = SE/Market Cap\n",
    "#             = (Total Assets - Total Liabilities)/(Stock Price * Number of shares)\n",
    "\n",
    "hw5_dedup['btm'] = hw5_dedup['ceqq']/(hw5_dedup['prccq']*hw5_dedup['cshoq'])\n",
    "print 'Mean BTM Ratio: {:.3f}'.format(hw5_dedup['btm'].mean())"
   ]
  },
  {
   "cell_type": "code",
   "execution_count": 12,
   "metadata": {
    "collapsed": false,
    "scrolled": true
   },
   "outputs": [
    {
     "name": "stdout",
     "output_type": "stream",
     "text": [
      "Fraction of companies with F-score >= 7 & Top quantile BTM: 4.64%\n"
     ]
    }
   ],
   "source": [
    "hw5_dedup['btm_quantile'] = hw5_dedup.groupby(by='fyearq')['btm'].transform(\\\n",
    "                                            lambda x: pd.qcut(x,5, labels = range(1,6))\n",
    "                                                             )\n",
    "\n",
    "print 'Fraction of companies with F-score >= 7 & Top quantile BTM: {:.2f}%'.\\\n",
    "                            format(float(100*len(hw5_dedup[(hw5_dedup['f_score'] >=7) & (hw5_dedup['btm_quantile'] == 5)]))\\\n",
    "                                   /len(hw5_dedup[hw5_dedup['f_score'].isnull()==False]) )"
   ]
  },
  {
   "cell_type": "code",
   "execution_count": 13,
   "metadata": {
    "collapsed": false
   },
   "outputs": [
    {
     "name": "stdout",
     "output_type": "stream",
     "text": [
      "btm_quantile\n",
      "1.0    5.671882\n",
      "2.0    5.747823\n",
      "3.0    5.615169\n",
      "4.0    5.485331\n",
      "5.0    5.192266\n",
      "Name: f_score, dtype: float64\n"
     ]
    }
   ],
   "source": [
    "print hw5_dedup.groupby('btm_quantile')['f_score'].mean()"
   ]
  },
  {
   "cell_type": "markdown",
   "metadata": {},
   "source": [
    "#### Explanation\n",
    "\n",
    "The book to market ratio of a company represents value that the company is held at. Higher BTM ratio implies that a company is greatly undervalued (i.e book value is good but market value isn't). Theoretically, this indicates companies that are the best 'buys'.\n",
    "\n",
    "However, as the data suggests, we can see that as BTM ratio increases, there is first an increase and then decrease in F-Score. Furthermore, if we look at the results of a correlation between btm and f-score we can see that there is no relation at all between BTM ratio and F-score."
   ]
  },
  {
   "cell_type": "code",
   "execution_count": 14,
   "metadata": {
    "collapsed": false
   },
   "outputs": [
    {
     "name": "stdout",
     "output_type": "stream",
     "text": [
      "[[ 1.         -0.12803482]\n",
      " [-0.12803482  1.        ]]\n"
     ]
    }
   ],
   "source": [
    "#Checking correlation between fscores and btm ratios\n",
    "\n",
    "corr_data = hw5_dedup[(hw5_dedup['f_score'].isnull()==False) & (hw5_dedup['btm'].isnull()==False)]\n",
    "print np.corrcoef(corr_data['f_score'],corr_data['btm'])"
   ]
  },
  {
   "cell_type": "markdown",
   "metadata": {},
   "source": [
    "End conclusion is that the BTM ratio cannot be the sole measure by which a company's value can be judged. One needs a combination of both BTM Ratio and the F-score to make a call on this matter."
   ]
  }
 ],
 "metadata": {
  "celltoolbar": "Raw Cell Format",
  "kernelspec": {
   "display_name": "Python 2",
   "language": "python",
   "name": "python2"
  },
  "language_info": {
   "codemirror_mode": {
    "name": "ipython",
    "version": 2
   },
   "file_extension": ".py",
   "mimetype": "text/x-python",
   "name": "python",
   "nbconvert_exporter": "python",
   "pygments_lexer": "ipython2",
   "version": "2.7.11"
  }
 },
 "nbformat": 4,
 "nbformat_minor": 0
}
