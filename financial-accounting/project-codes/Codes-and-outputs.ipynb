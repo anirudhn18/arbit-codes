{
 "cells": [
  {
   "cell_type": "markdown",
   "metadata": {},
   "source": [
    "# Codes and Outputs for Final Project"
   ]
  },
  {
   "cell_type": "code",
   "execution_count": 1,
   "metadata": {
    "collapsed": false
   },
   "outputs": [],
   "source": [
    "import numpy as np\n",
    "import pandas as pd\n",
    "import re\n",
    "import matplotlib.pyplot as plt\n",
    "import matplotlib.dates as mdates\n",
    "\n",
    "import matplotlib\n",
    "matplotlib.style.use('ggplot')\n",
    "\n",
    "from pandas_datareader import data\n",
    "from datetime import datetime as dt\n"
   ]
  },
  {
   "cell_type": "markdown",
   "metadata": {},
   "source": [
    "#### Defining functions to parse 10k files for numbers or words"
   ]
  },
  {
   "cell_type": "code",
   "execution_count": 2,
   "metadata": {
    "collapsed": false
   },
   "outputs": [],
   "source": [
    "def parse_for_nums(file_name):\n",
    "  \n",
    "    \"\"\" \n",
    "    TAKES FILENAME AS INPUT AND GIVES ALL NUMBERS IN THAT FILE\n",
    "    \"\"\"\n",
    "    numlist = []\n",
    "    with open(file_name, 'r') as f:\n",
    "        for line in f:\n",
    "            nums = re.findall(re.compile(r'\\d+'), line.replace(\".\",'').replace(',','').upper())\n",
    "            numlist = numlist + nums\n",
    "    \n",
    "    return pd.Series(numlist)\n",
    "\n",
    "\n",
    "\n",
    "def parse_for_words(file_name):\n",
    "  \n",
    "    \"\"\" \n",
    "    TAKES FILENAME AS INPUT AND GIVES ALL WORDS IN THAT FILE\n",
    "    \"\"\"\n",
    "    wordlist = []\n",
    "    with open(file_name, 'r') as f:\n",
    "        for line in f:\n",
    "            words = re.findall(re.compile('\\w+'), line.upper())\n",
    "            wordlist = wordlist + [word for word in words if word.isdigit()==False]\n",
    "        \n",
    "    return pd.Series(wordlist)\n",
    "\n",
    "\n",
    "def sentiment(word_series):\n",
    "    \n",
    "    \"\"\"\n",
    "    TAKES A (PANDAS) SERIES OF WORDS AND INPUT AND CALCULATES SENTIMENT SCORES\n",
    "    \"\"\"\n",
    "    positive_words = pd.read_csv('data/LM_poswords.txt', squeeze=True, header=None)\n",
    "    negative_words = pd.read_csv('data/LM_negwords.txt', squeeze=True, header=None)\n",
    "\n",
    "    positive_count = sum(word_series.isin(positive_words))\n",
    "    negative_count = sum(word_series.isin(negative_words))\n",
    "\n",
    "    print 'Sentiment Values:\\ni) positive - negative / total :{}\\nii) negative / total words : {}'.\\\n",
    "                format((positive_count-negative_count)/float(len(word_series)), negative_count/float(len(word_series)))"
   ]
  },
  {
   "cell_type": "markdown",
   "metadata": {},
   "source": [
    "#### Defining function to check a number list for Benford's law"
   ]
  },
  {
   "cell_type": "code",
   "execution_count": 3,
   "metadata": {
    "collapsed": false
   },
   "outputs": [],
   "source": [
    "def get_signif(string):\n",
    "    \n",
    "    \"\"\"\n",
    "    TAKES THE STRING OF A NUMBER AS INPUT AND RETURNS THE FIRST SIGNIFICANT DIGIT IN THE NUMBER\n",
    "    \"\"\"\n",
    "    diglist = re.findall(re.compile(r'[1-9]'),string)\n",
    "    if diglist == []:\n",
    "        return np.nan\n",
    "    else:\n",
    "        return diglist[0]\n",
    "\n",
    "\n",
    "def obeys_benford(num_series):\n",
    "    \n",
    "    \"\"\"\n",
    "    TAKES A PANDAS SERIES OF NUMBERS AS INPUT AND TESTS FOR BENFORD'S LAW\n",
    "    \"\"\"\n",
    "    \n",
    "    expected_dist = pd.Series([np.log10(1+(1/float(d))) for d in range(1,10)]\n",
    "                                   ,index = range(1,10)).cumsum()\n",
    "    first_digits_counts = num_series.map(get_signif).dropna().astype(int).value_counts().sort_index()\n",
    "    \n",
    "    first_digits_cumfreq = (first_digits_counts/first_digits_counts.sum()).cumsum()\n",
    "    \n",
    "    ks_stat = (expected_dist.subtract(first_digits_cumfreq)).abs().max()\n",
    "    cutoff = 1.36/np.sqrt(len(num_series))\n",
    "    \n",
    "    print 'ks_stat: {}'.format(round(ks_stat,3))\n",
    "    print 'cutoff : {}'.format(round(cutoff,3))    \n",
    "    \n",
    "    if ks_stat > cutoff:\n",
    "        print 'These numbers do not obey Benford\\'s Law'\n",
    "    else:\n",
    "        print 'These numbers obey Benford\\'s Law'"
   ]
  },
  {
   "cell_type": "markdown",
   "metadata": {},
   "source": [
    "# Benford's law"
   ]
  },
  {
   "cell_type": "markdown",
   "metadata": {},
   "source": [
    "### Netflix\n",
    "\n",
    "First off, trying the entire 10k"
   ]
  },
  {
   "cell_type": "code",
   "execution_count": 4,
   "metadata": {
    "collapsed": false,
    "scrolled": true
   },
   "outputs": [
    {
     "name": "stdout",
     "output_type": "stream",
     "text": [
      "ks_stat: 0.128\n",
      "cutoff : 0.025\n",
      "These numbers do not obey Benford's Law\n"
     ]
    }
   ],
   "source": [
    "obeys_benford(parse_for_nums('data/nflx-10k.txt'))"
   ]
  },
  {
   "cell_type": "markdown",
   "metadata": {},
   "source": [
    "Next, trying only the key financial statements"
   ]
  },
  {
   "cell_type": "code",
   "execution_count": 5,
   "metadata": {
    "collapsed": false
   },
   "outputs": [
    {
     "name": "stdout",
     "output_type": "stream",
     "text": [
      "ks_stat: 0.068\n",
      "cutoff : 0.076\n",
      "These numbers obey Benford's Law\n"
     ]
    }
   ],
   "source": [
    "obeys_benford(parse_for_nums('data/nflx-10k-nums.txt'))"
   ]
  },
  {
   "cell_type": "markdown",
   "metadata": {},
   "source": [
    "### Time Warner Inc"
   ]
  },
  {
   "cell_type": "code",
   "execution_count": 6,
   "metadata": {
    "collapsed": false
   },
   "outputs": [
    {
     "name": "stdout",
     "output_type": "stream",
     "text": [
      "ks_stat: 0.014\n",
      "cutoff : 0.025\n",
      "These numbers obey Benford's Law\n"
     ]
    }
   ],
   "source": [
    "obeys_benford(parse_for_nums('data/twx-10k-nums.txt'))"
   ]
  },
  {
   "cell_type": "markdown",
   "metadata": {},
   "source": [
    "### Amazon"
   ]
  },
  {
   "cell_type": "code",
   "execution_count": 7,
   "metadata": {
    "collapsed": false
   },
   "outputs": [
    {
     "name": "stdout",
     "output_type": "stream",
     "text": [
      "ks_stat: 0.049\n",
      "cutoff : 0.073\n",
      "These numbers obey Benford's Law\n"
     ]
    }
   ],
   "source": [
    "obeys_benford(parse_for_nums('data/amzn-10k-nums.txt'))"
   ]
  },
  {
   "cell_type": "markdown",
   "metadata": {},
   "source": [
    " "
   ]
  },
  {
   "cell_type": "markdown",
   "metadata": {},
   "source": [
    " "
   ]
  },
  {
   "cell_type": "markdown",
   "metadata": {},
   "source": [
    "# Sentiment analysis"
   ]
  },
  {
   "cell_type": "markdown",
   "metadata": {},
   "source": [
    "## Management and Discussion"
   ]
  },
  {
   "cell_type": "markdown",
   "metadata": {},
   "source": [
    "### Netflix"
   ]
  },
  {
   "cell_type": "code",
   "execution_count": 8,
   "metadata": {
    "collapsed": false
   },
   "outputs": [
    {
     "name": "stdout",
     "output_type": "stream",
     "text": [
      "Sentiment Values:\n",
      "i) positive - negative / total :0.000445434298441\n",
      "ii) negative / total words : 0.00400890868597\n"
     ]
    }
   ],
   "source": [
    "sentiment(parse_for_words('data/nflx-mgmtdisc.txt'))"
   ]
  },
  {
   "cell_type": "markdown",
   "metadata": {},
   "source": [
    "### Time Warner"
   ]
  },
  {
   "cell_type": "code",
   "execution_count": 9,
   "metadata": {
    "collapsed": false
   },
   "outputs": [
    {
     "name": "stdout",
     "output_type": "stream",
     "text": [
      "Sentiment Values:\n",
      "i) positive - negative / total :0.00024931438544\n",
      "ii) negative / total words : 0.0074794315632\n"
     ]
    }
   ],
   "source": [
    "sentiment(parse_for_words('data/twx-mgmtdisc.txt'))"
   ]
  },
  {
   "cell_type": "markdown",
   "metadata": {},
   "source": [
    "### Amazon"
   ]
  },
  {
   "cell_type": "code",
   "execution_count": 10,
   "metadata": {
    "collapsed": false,
    "scrolled": true
   },
   "outputs": [
    {
     "name": "stdout",
     "output_type": "stream",
     "text": [
      "Sentiment Values:\n",
      "i) positive - negative / total :0.018261504748\n",
      "ii) negative / total words : 0.00438276113952\n"
     ]
    }
   ],
   "source": [
    "sentiment(parse_for_words('data/amzn-mgmtdisc.txt'))"
   ]
  },
  {
   "cell_type": "markdown",
   "metadata": {},
   "source": [
    "   "
   ]
  },
  {
   "cell_type": "markdown",
   "metadata": {},
   "source": [
    "## Risk Factors"
   ]
  },
  {
   "cell_type": "markdown",
   "metadata": {},
   "source": [
    "### Netflix"
   ]
  },
  {
   "cell_type": "code",
   "execution_count": 11,
   "metadata": {
    "collapsed": false
   },
   "outputs": [
    {
     "name": "stdout",
     "output_type": "stream",
     "text": [
      "Sentiment Values:\n",
      "i) positive - negative / total :-0.0325497287523\n",
      "ii) negative / total words : 0.0443733481708\n"
     ]
    }
   ],
   "source": [
    "sentiment(parse_for_words('data/nflx-riskfactors.txt'))"
   ]
  },
  {
   "cell_type": "markdown",
   "metadata": {},
   "source": [
    "### Time Warner"
   ]
  },
  {
   "cell_type": "code",
   "execution_count": 12,
   "metadata": {
    "collapsed": false
   },
   "outputs": [
    {
     "name": "stdout",
     "output_type": "stream",
     "text": [
      "Sentiment Values:\n",
      "i) positive - negative / total :-0.0232996402261\n",
      "ii) negative / total words : 0.0388898406716\n"
     ]
    }
   ],
   "source": [
    "sentiment(parse_for_words('data/twx-riskfactors.txt'))"
   ]
  },
  {
   "cell_type": "markdown",
   "metadata": {},
   "source": [
    "### Amazon"
   ]
  },
  {
   "cell_type": "code",
   "execution_count": 13,
   "metadata": {
    "collapsed": false
   },
   "outputs": [
    {
     "name": "stdout",
     "output_type": "stream",
     "text": [
      "Sentiment Values:\n",
      "i) positive - negative / total :-0.0271548436308\n",
      "ii) negative / total words : 0.0396643783371\n"
     ]
    }
   ],
   "source": [
    "sentiment(parse_for_words('data/amzn-riskfactors.txt'))"
   ]
  },
  {
   "cell_type": "markdown",
   "metadata": {},
   "source": [
    "## Foward-looking statement for Netflix"
   ]
  },
  {
   "cell_type": "code",
   "execution_count": 14,
   "metadata": {
    "collapsed": false
   },
   "outputs": [
    {
     "name": "stdout",
     "output_type": "stream",
     "text": [
      "Sentiment Values:\n",
      "i) positive - negative / total :0.0204703832753\n",
      "ii) negative / total words : 0.00522648083624\n"
     ]
    }
   ],
   "source": [
    "sentiment(parse_for_words('data/nflx-fwd-looking.txt'))"
   ]
  },
  {
   "cell_type": "markdown",
   "metadata": {},
   "source": [
    " "
   ]
  },
  {
   "cell_type": "markdown",
   "metadata": {},
   "source": [
    "\n",
    "\n",
    "\n",
    "## Sentiment vs RoA"
   ]
  },
  {
   "cell_type": "markdown",
   "metadata": {},
   "source": [
    "The sentiment score considered for this is the Net sentiment"
   ]
  },
  {
   "cell_type": "code",
   "execution_count": 15,
   "metadata": {
    "collapsed": false
   },
   "outputs": [],
   "source": [
    "companies = ['Netflix Inc.', 'Amazon.com Inc.', 'Time Warner Inc.']\n",
    "\n",
    "sentiment_scores = [0.00044,0.01826,0.00025]\n",
    "ROA = [-0.07345,0.18214,0.06002]\n",
    "\n",
    "\n",
    "plot_df = pd.DataFrame({'Sentiment':sentiment_scores,\n",
    "                        'ROA': ROA},\n",
    "                      index = companies)"
   ]
  },
  {
   "cell_type": "code",
   "execution_count": 16,
   "metadata": {
    "collapsed": false
   },
   "outputs": [
    {
     "data": {
      "text/plain": [
       "<matplotlib.text.Text at 0x98ce240>"
      ]
     },
     "execution_count": 16,
     "metadata": {},
     "output_type": "execute_result"
    },
    {
     "data": {
      "image/png": "[encoded data removed]",
      "text/plain": [
       "<matplotlib.figure.Figure at 0x90fcb00>"
      ]
     },
     "metadata": {},
     "output_type": "display_data"
    }
   ],
   "source": [
    "%matplotlib inline\n",
    "\n",
    "plot_df.Sentiment.plot(color = 'firebrick',grid = 'off',figsize = (10,10), stacked= True)\n",
    "plt.ylabel('Sentiment Scores')\n",
    "plt.legend(loc = 'upper left')\n",
    "plot_df.ROA.plot(kind = 'bar', color = 'gray',secondary_y = True,grid = 'off',stacked = False, alpha = 0.5)\n",
    "plt.axhline(color='k')\n",
    "plt.legend()\n",
    "plt.grid(True)\n",
    "plt.margins(1,0)\n",
    "plt.title('RoA vs Sentiment',{'fontsize':22})\n",
    "#plt.savefig('ROAvSentiment.png')"
   ]
  },
  {
   "cell_type": "markdown",
   "metadata": {},
   "source": [
    "## Netflix stock performance plot"
   ]
  },
  {
   "cell_type": "code",
   "execution_count": 17,
   "metadata": {
    "collapsed": false
   },
   "outputs": [],
   "source": [
    "start = dt(2005,12,31)\n",
    "\n",
    "nflx_stock_close = data.DataReader('nflx','google',start)['Close']"
   ]
  },
  {
   "cell_type": "code",
   "execution_count": 18,
   "metadata": {
    "collapsed": false
   },
   "outputs": [
    {
     "data": {
      "text/plain": [
       "<matplotlib.text.Text at 0x9e42ba8>"
      ]
     },
     "execution_count": 18,
     "metadata": {},
     "output_type": "execute_result"
    },
    {
     "data": {
      "image/png": "[encoded data removed]",
      "text/plain": [
       "<matplotlib.figure.Figure at 0x97f9c88>"
      ]
     },
     "metadata": {},
     "output_type": "display_data"
    }
   ],
   "source": [
    "%matplotlib inline\n",
    "\n",
    "nflx_stock_close.plot(kind='area',\n",
    "                      color = 'firebrick',\n",
    "                      alpha=0.7,\n",
    "                      figsize = (18,12))\n",
    "\n",
    "plt.title('Netflix stock prices over time',fontdict={'fontsize':22})\n",
    "#plt.savefig('nflx_stock_price.png')"
   ]
  }
 ],
 "metadata": {
  "kernelspec": {
   "display_name": "Python 2",
   "language": "python",
   "name": "python2"
  },
  "language_info": {
   "codemirror_mode": {
    "name": "ipython",
    "version": 2
   },
   "file_extension": ".py",
   "mimetype": "text/x-python",
   "name": "python",
   "nbconvert_exporter": "python",
   "pygments_lexer": "ipython2",
   "version": "2.7.12"
  }
 },
 "nbformat": 4,
 "nbformat_minor": 0
}
