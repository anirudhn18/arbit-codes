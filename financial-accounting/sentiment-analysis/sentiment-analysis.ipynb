{
 "cells": [
  {
   "cell_type": "markdown",
   "metadata": {},
   "source": [
    "<h1 style=\"text-align: center;\">Financial Accounting - HW7</h1> \n",
    "\n",
    "<p style=\"text-align: right;\"><i>Anirudh Narayanan</i></p>"
   ]
  },
  {
   "cell_type": "code",
   "execution_count": 1,
   "metadata": {
    "collapsed": true
   },
   "outputs": [],
   "source": [
    "import pandas as pd\n",
    "import numpy as np\n",
    "import pylab as pl\n",
    "import re"
   ]
  },
  {
   "cell_type": "markdown",
   "metadata": {},
   "source": [
    "## Q1 - Benford's Law\n",
    "\n",
    "#### Generating the samples "
   ]
  },
  {
   "cell_type": "code",
   "execution_count": 2,
   "metadata": {
    "collapsed": true
   },
   "outputs": [],
   "source": [
    "x = np.random.uniform(0,1, 1000)\n",
    "y = np.random.normal(1,1,1000)\n",
    "z = np.random.normal(0,1,1000)"
   ]
  },
  {
   "cell_type": "markdown",
   "metadata": {},
   "source": [
    "### A) Testing Benford's law on each of x, y and z"
   ]
  },
  {
   "cell_type": "code",
   "execution_count": 3,
   "metadata": {
    "collapsed": false
   },
   "outputs": [],
   "source": [
    "#Getting lists of first digits and the % occurance of each digit\n",
    "\n",
    "x_1stdigit = pd.Series([[digit for digit in list(num) if digit not in ('0','.','-')][0]  for num in x.astype(str)]).astype(int)\n",
    "x_digcounts = pd.DataFrame( x_1stdigit.value_counts().sort_index()/1000,columns = ['x'])\n",
    "\n",
    "y_1stdigit = pd.Series([[digit for digit in list(num) if digit not in ('0','.','-')][0]  for num in y.astype(str)]).astype(int)\n",
    "y_digcounts = pd.DataFrame( y_1stdigit.value_counts().sort_index()/1000,columns = ['y'])\n",
    "\n",
    "z_1stdigit = pd.Series([[digit for digit in list(num) if digit not in ('0','.','-')][0]  for num in z.astype(str)]).astype(int)\n",
    "z_digcounts = pd.DataFrame( z_1stdigit.value_counts().sort_index()/1000,columns = ['z'])"
   ]
  },
  {
   "cell_type": "markdown",
   "metadata": {},
   "source": [
    "<b><i>Calculating K-S Statistic</i></b>"
   ]
  },
  {
   "cell_type": "code",
   "execution_count": 4,
   "metadata": {
    "collapsed": false
   },
   "outputs": [
    {
     "data": {
      "text/html": [
       "<div>\n",
       "<table border=\"1\" class=\"dataframe\">\n",
       "  <thead>\n",
       "    <tr style=\"text-align: right;\">\n",
       "      <th></th>\n",
       "      <th>expected</th>\n",
       "      <th>x</th>\n",
       "      <th>y</th>\n",
       "      <th>z</th>\n",
       "    </tr>\n",
       "  </thead>\n",
       "  <tbody>\n",
       "    <tr>\n",
       "      <th>1</th>\n",
       "      <td>0.301030</td>\n",
       "      <td>0.104</td>\n",
       "      <td>0.418</td>\n",
       "      <td>0.355</td>\n",
       "    </tr>\n",
       "    <tr>\n",
       "      <th>2</th>\n",
       "      <td>0.176091</td>\n",
       "      <td>0.109</td>\n",
       "      <td>0.202</td>\n",
       "      <td>0.143</td>\n",
       "    </tr>\n",
       "    <tr>\n",
       "      <th>3</th>\n",
       "      <td>0.124939</td>\n",
       "      <td>0.113</td>\n",
       "      <td>0.072</td>\n",
       "      <td>0.086</td>\n",
       "    </tr>\n",
       "    <tr>\n",
       "      <th>4</th>\n",
       "      <td>0.096910</td>\n",
       "      <td>0.138</td>\n",
       "      <td>0.064</td>\n",
       "      <td>0.079</td>\n",
       "    </tr>\n",
       "    <tr>\n",
       "      <th>5</th>\n",
       "      <td>0.079181</td>\n",
       "      <td>0.106</td>\n",
       "      <td>0.048</td>\n",
       "      <td>0.065</td>\n",
       "    </tr>\n",
       "  </tbody>\n",
       "</table>\n",
       "</div>"
      ],
      "text/plain": [
       "   expected      x      y      z\n",
       "1  0.301030  0.104  0.418  0.355\n",
       "2  0.176091  0.109  0.202  0.143\n",
       "3  0.124939  0.113  0.072  0.086\n",
       "4  0.096910  0.138  0.064  0.079\n",
       "5  0.079181  0.106  0.048  0.065"
      ]
     },
     "execution_count": 4,
     "metadata": {},
     "output_type": "execute_result"
    }
   ],
   "source": [
    "#Creating a dataframe of expected distributions and adding the above dataframes\n",
    "digit_distributions = pd.DataFrame([np.log10(1+(1/float(d))) for d in range(1,10)]\n",
    "                                   ,index = range(1,10), columns = ['expected'])\n",
    "\n",
    "digit_distributions = pd.concat([digit_distributions,x_digcounts, y_digcounts, z_digcounts], axis = 1 )\n",
    "\n",
    "digit_distributions.head()"
   ]
  },
  {
   "cell_type": "code",
   "execution_count": 5,
   "metadata": {
    "collapsed": false
   },
   "outputs": [
    {
     "name": "stdout",
     "output_type": "stream",
     "text": [
      "Cutoff: 0.0430069761783\n",
      "KS stat for x: 0.276059991328\n",
      "KS stat for y: 0.14287874528\n",
      "KS stat for z: 0.053970004336\n"
     ]
    }
   ],
   "source": [
    "#Cumulative sums and differences from expected values\n",
    "digit_dist_cumsum = digit_distributions.cumsum()\n",
    "\n",
    "digit_dist_cumsum['diff_x'] = (digit_dist_cumsum.x - digit_dist_cumsum.expected).abs()\n",
    "digit_dist_cumsum['diff_y'] = (digit_dist_cumsum.y - digit_dist_cumsum.expected).abs()\n",
    "digit_dist_cumsum['diff_z'] = (digit_dist_cumsum.z - digit_dist_cumsum.expected).abs()\n",
    "\n",
    "#K-S Statistic for each of x, y and z\n",
    "ks_x = digit_dist_cumsum.diff_x.max()\n",
    "ks_y = digit_dist_cumsum.diff_y.max()\n",
    "ks_z = digit_dist_cumsum.diff_z.max()\n",
    "\n",
    "#Cut-off value\n",
    "cutoff = 1.36/np.sqrt(1000)\n",
    "\n",
    "print 'Cutoff: {}\\nKS stat for x: {}\\nKS stat for y: {}\\nKS stat for z: {}'.format(cutoff, ks_x, ks_y, ks_z)"
   ]
  },
  {
   "cell_type": "markdown",
   "metadata": {},
   "source": [
    "<u><i>Conclusion:</i></u>  \n",
    "Thus we can see that none of the three distributions obey Benford's Law.\n",
    "\n",
    "<u><i>Explanation:</i></u>  \n",
    "Benford's Law applies to be data that come from a multiplicative random variable process. Since none of x, y or z come from such a process, we see that none of them conform to Benford's Law.\n",
    "\n",
    "\n",
    "### B) Testing Benford's Law on x\\*y\\*z"
   ]
  },
  {
   "cell_type": "code",
   "execution_count": 6,
   "metadata": {
    "collapsed": false
   },
   "outputs": [
    {
     "name": "stdout",
     "output_type": "stream",
     "text": [
      "Cutoff: 0.0430069761783\n",
      "KS stat for x: 0.017029995664\n"
     ]
    }
   ],
   "source": [
    "xyz = x*y*z\n",
    "\n",
    "xyz_1stdigit = pd.Series([[digit for digit in list(num) if digit not in ('0','.','-')][0]  for num in xyz.astype(str)]).astype(int)\n",
    "xyz_digcounts = pd.DataFrame( xyz_1stdigit.value_counts().sort_index()/1000,columns = ['xyz'])\n",
    "\n",
    "ks_xyz = xyz_digcounts.xyz.cumsum().subtract(digit_dist_cumsum.expected).abs().max()\n",
    "\n",
    "print 'Cutoff: {}\\nKS stat for x: {}'.format(cutoff,ks_xyz)"
   ]
  },
  {
   "cell_type": "markdown",
   "metadata": {},
   "source": [
    "<u><i>Conclusion:</i></u>  \n",
    "Here we see that x\\*y\\*z obeys Benford's Law.\n",
    "\n",
    "<u><i>Explanation:</i></u>  \n",
    "Benford's Law applies to be data that come from a multiplicative random variable process. By definition, x\\*y\\*z comes from multiplication of three random variables. Hence x\\*y\\*z is expected to obey Benford's Law\n",
    "\n",
    "\n",
    "### C) Testing Benford's Law on x\\*y\\*z after rounding"
   ]
  },
  {
   "cell_type": "code",
   "execution_count": 7,
   "metadata": {
    "collapsed": false
   },
   "outputs": [
    {
     "name": "stdout",
     "output_type": "stream",
     "text": [
      "Cutoff: 0.0430069761783\n",
      "KS stat for x: 0.0968583371171\n"
     ]
    }
   ],
   "source": [
    "xyz_round = xyz.round(1)\n",
    "\n",
    "xyz_r_1stdigit = pd.Series([[digit for digit in list(num) if digit not in ('0','.','-')][0] \\\n",
    "                            for num in xyz_round.astype(str) if num != '0.0']).astype(int)\n",
    "xyz_r_digcounts = pd.DataFrame( xyz_r_1stdigit.value_counts().sort_index()/len(xyz_r_1stdigit),columns = ['xyz_r'])\n",
    "\n",
    "\n",
    "ks_xyz_r = xyz_r_digcounts.xyz_r.cumsum().subtract(digit_dist_cumsum.expected).abs().max()\n",
    "print 'Cutoff: {}\\nKS stat for x: {}'.format(cutoff,ks_xyz_r)"
   ]
  },
  {
   "cell_type": "markdown",
   "metadata": {},
   "source": [
    "<u><i>Conclusion:</i></u>  \n",
    "Here we see that xyz_round does not obey Benford's Law.\n",
    "\n",
    "<u><i>Explanation:</i></u>  \n",
    "Although the underlying data (x\\*y\\*z) is multiplicative in nature, there is still a manipulation of data (through the process of rounding). Thus the data isn't completely representative of a multiplicative process and does not obey Benford's Law\n",
    "\n",
    "<br>\n",
    "<br>\n",
    "\n",
    "## Q2 - Bag of Words\n",
    "\n",
    "### A) Word Count\n"
   ]
  },
  {
   "cell_type": "code",
   "execution_count": 8,
   "metadata": {
    "collapsed": false
   },
   "outputs": [
    {
     "name": "stdout",
     "output_type": "stream",
     "text": [
      "Count of words is 1939\n"
     ]
    }
   ],
   "source": [
    "#Loading the file and getting a list of words\n",
    "tesla_words = []\n",
    "\n",
    "with open('HW7_Tesla_2015.txt') as f:\n",
    "    for line in f:\n",
    "        words = re.findall(re.compile('\\w+'), line.upper())\n",
    "        tesla_words = tesla_words + [word for word in words if word.isdigit()==False]\n",
    "        \n",
    "tesla_words = pd.DataFrame(tesla_words,columns = ['tesla'])\n",
    "print 'Count of words is {}'.format(len(tesla_words))"
   ]
  },
  {
   "cell_type": "markdown",
   "metadata": {},
   "source": [
    "### B) Calculating sentiment"
   ]
  },
  {
   "cell_type": "code",
   "execution_count": 9,
   "metadata": {
    "collapsed": false
   },
   "outputs": [
    {
     "name": "stdout",
     "output_type": "stream",
     "text": [
      "Sentiment Values:\n",
      "i) positive - negative / total :0.00257864878804\n",
      "ii) negative / total words : 0.00825167612171\n"
     ]
    }
   ],
   "source": [
    "#Loading the positive and negative words\n",
    "positive_words = pd.read_csv('HW7_LM_pos_words.txt', squeeze=True, header=None)\n",
    "negative_words = pd.read_csv('HW7_LM_neg_words.txt', squeeze=True, header=None)\n",
    "\n",
    "positive_count = sum(tesla_words.tesla.isin(positive_words))\n",
    "negative_count = sum(tesla_words.tesla.isin(negative_words))\n",
    "\n",
    "print 'Sentiment Values:\\ni) positive - negative / total :{}\\nii) negative / total words : {}'.\\\n",
    "            format((positive_count-negative_count)/float(len(tesla_words)), negative_count/float(len(tesla_words)))"
   ]
  },
  {
   "cell_type": "markdown",
   "metadata": {},
   "source": [
    "### C) Are there negator words?"
   ]
  },
  {
   "cell_type": "code",
   "execution_count": 10,
   "metadata": {
    "collapsed": false
   },
   "outputs": [
    {
     "name": "stdout",
     "output_type": "stream",
     "text": [
      "Number of negator words in the file are: 7\n"
     ]
    }
   ],
   "source": [
    "words = tesla_words.tesla.isin(['NOT','NO','NEVER'])\n",
    "\n",
    "print 'Number of negator words in the file are: {}'.format(sum(words))"
   ]
  }
 ],
 "metadata": {
  "kernelspec": {
   "display_name": "Python 2",
   "language": "python",
   "name": "python2"
  },
  "language_info": {
   "codemirror_mode": {
    "name": "ipython",
    "version": 2
   },
   "file_extension": ".py",
   "mimetype": "text/x-python",
   "name": "python",
   "nbconvert_exporter": "python",
   "pygments_lexer": "ipython2",
   "version": "2.7.11"
  }
 },
 "nbformat": 4,
 "nbformat_minor": 0
}
